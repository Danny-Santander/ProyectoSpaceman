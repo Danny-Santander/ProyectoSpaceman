{
  "nbformat": 4,
  "nbformat_minor": 0,
  "metadata": {
    "colab": {
      "provenance": [],
      "authorship_tag": "ABX9TyNKbFglCZMV+7LzW2s0YP+g",
      "include_colab_link": true
    },
    "kernelspec": {
      "name": "python3",
      "display_name": "Python 3"
    },
    "language_info": {
      "name": "python"
    }
  },
  "cells": [
    {
      "cell_type": "markdown",
      "metadata": {
        "id": "view-in-github",
        "colab_type": "text"
      },
      "source": [
        "<a href=\"https://colab.research.google.com/github/Danny-Santander/ProyectoSpaceman/blob/main/Untitled0.ipynb\" target=\"_parent\"><img src=\"https://colab.research.google.com/assets/colab-badge.svg\" alt=\"Open In Colab\"/></a>"
      ]
    },
    {
      "cell_type": "code",
      "execution_count": 2,
      "metadata": {
        "colab": {
          "base_uri": "https://localhost:8080/"
        },
        "id": "BYVLZg_mPcc4",
        "outputId": "1c51ee2b-ff9e-42e1-814c-506cefa7967f"
      },
      "outputs": [
        {
          "output_type": "stream",
          "name": "stdout",
          "text": [
            "Descargando archivos de la carpeta...\n"
          ]
        },
        {
          "output_type": "stream",
          "name": "stderr",
          "text": [
            "Retrieving folder contents\n"
          ]
        },
        {
          "output_type": "stream",
          "name": "stdout",
          "text": [
            "Processing file 1fxd0UIjXMNMn31pKXJ62bXywmtRZvg8o productos_prueba_v2.txt\n",
            "Processing file 1NWSYLN3jbS5aeOSNPPa4N7xSZWCv-Bgc tickets_prueba_v2.txt\n"
          ]
        },
        {
          "output_type": "stream",
          "name": "stderr",
          "text": [
            "Retrieving folder contents completed\n",
            "Building directory structure\n",
            "Building directory structure completed\n",
            "Downloading...\n",
            "From: https://drive.google.com/uc?id=1fxd0UIjXMNMn31pKXJ62bXywmtRZvg8o\n",
            "To: /content/Downloads/productos_prueba_v2.txt\n",
            "100%|██████████| 85.9M/85.9M [00:00<00:00, 116MB/s]\n",
            "Downloading...\n",
            "From (original): https://drive.google.com/uc?id=1NWSYLN3jbS5aeOSNPPa4N7xSZWCv-Bgc\n",
            "From (redirected): https://drive.google.com/uc?id=1NWSYLN3jbS5aeOSNPPa4N7xSZWCv-Bgc&confirm=t&uuid=a4404df4-79a7-449d-b83b-112a90c746c1\n",
            "To: /content/Downloads/tickets_prueba_v2.txt\n",
            "100%|██████████| 641M/641M [00:10<00:00, 61.4MB/s]"
          ]
        },
        {
          "output_type": "stream",
          "name": "stdout",
          "text": [
            "Descarga completa. Archivos guardados en: Downloads\n"
          ]
        },
        {
          "output_type": "stream",
          "name": "stderr",
          "text": [
            "\n",
            "Download completed\n"
          ]
        }
      ],
      "source": [
        "import gdown\n",
        "import os\n",
        "\n",
        "# URL de la carpeta compartida\n",
        "file_url = \"https://drive.google.com/drive/folders/17a0kvZD1ZfRPyMCgrNlr4vCCdqN9djCv\"\n",
        "output_folder = \"Downloads\"\n",
        "os.makedirs(output_folder, exist_ok=True)\n",
        "\n",
        "# Descargar archivos usando gdown\n",
        "def download_from_folder(file_url, output_folder):\n",
        "    print(\"Descargando archivos de la carpeta...\")\n",
        "# Convertir la URL de la carpeta a formato descargable\n",
        "    gdown.download_folder(file_url, output=output_folder, quiet=False)\n",
        "\n",
        "download_from_folder(file_url, output_folder)\n",
        "print(f\"Descarga completa. Archivos guardados en: {output_folder}\")\n"
      ]
    }
  ]
}